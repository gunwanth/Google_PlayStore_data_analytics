{
 "cells": [
  {
   "cell_type": "code",
   "execution_count": 1,
   "metadata": {},
   "outputs": [
    {
     "name": "stdout",
     "output_type": "stream",
     "text": [
      "Column Names: Index(['App', 'Category', 'Rating', 'Reviews', 'Size', 'Installs', 'Type',\n",
      "       'Price', 'Content Rating', 'Genres', 'Last Updated', 'Current Ver',\n",
      "       'Android Ver', 'Translated_Review', 'Sentiment', 'Sentiment_Polarity',\n",
      "       'Sentiment_Subjectivity'],\n",
      "      dtype='object')\n",
      "                   App        Category  Rating  Reviews Size  Installs  Type  \\\n",
      "0  Coloring book moana  ART_AND_DESIGN     3.9    967.0  14M    500000  Free   \n",
      "1  Coloring book moana  ART_AND_DESIGN     3.9    967.0  14M    500000  Free   \n",
      "2  Coloring book moana  ART_AND_DESIGN     3.9    967.0  14M    500000  Free   \n",
      "3  Coloring book moana  ART_AND_DESIGN     3.9    967.0  14M    500000  Free   \n",
      "4  Coloring book moana  ART_AND_DESIGN     3.9    967.0  14M    500000  Free   \n",
      "\n",
      "   Price Content Rating                     Genres      Last Updated  \\\n",
      "0    0.0       Everyone  Art & Design;Pretend Play  January 15, 2018   \n",
      "1    0.0       Everyone  Art & Design;Pretend Play  January 15, 2018   \n",
      "2    0.0       Everyone  Art & Design;Pretend Play  January 15, 2018   \n",
      "3    0.0       Everyone  Art & Design;Pretend Play  January 15, 2018   \n",
      "4    0.0       Everyone  Art & Design;Pretend Play  January 15, 2018   \n",
      "\n",
      "  Current Ver   Android Ver  \\\n",
      "0       2.0.0  4.0.3 and up   \n",
      "1       2.0.0  4.0.3 and up   \n",
      "2       2.0.0  4.0.3 and up   \n",
      "3       2.0.0  4.0.3 and up   \n",
      "4       2.0.0  4.0.3 and up   \n",
      "\n",
      "                                   Translated_Review Sentiment  \\\n",
      "0  A kid's excessive ads. The types ads allowed a...  Negative   \n",
      "1                                         It bad >:(  Negative   \n",
      "2                                               like   Neutral   \n",
      "3                           I love colors inspyering  Positive   \n",
      "4                                             I hate  Negative   \n",
      "\n",
      "   Sentiment_Polarity  Sentiment_Subjectivity  \n",
      "0              -0.250                1.000000  \n",
      "1              -0.725                0.833333  \n",
      "2               0.000                0.000000  \n",
      "3               0.500                0.600000  \n",
      "4              -0.800                0.900000  \n"
     ]
    }
   ],
   "source": [
    "import pandas as pd\n",
    "\n",
    "data = pd.read_csv(\"Merged_Data (1).csv\")\n",
    "\n",
    "print(\"Column Names:\", data.columns)\n",
    "\n",
    "print(data.head())\n"
   ]
  },
  {
   "cell_type": "code",
   "execution_count": 4,
   "metadata": {},
   "outputs": [],
   "source": [
    "data = data[data['App'].str.startswith('E')]\n"
   ]
  },
  {
   "cell_type": "code",
   "execution_count": 6,
   "metadata": {},
   "outputs": [],
   "source": [
    "if 'App' in data.columns:\n",
    "    data = data[data['App'].str.startswith('E')]\n",
    "else:\n",
    "    print(\"'App Name' column does not exist. Available columns are:\", data.columns)\n"
   ]
  }
 ],
 "metadata": {
  "kernelspec": {
   "display_name": "Python 3",
   "language": "python",
   "name": "python3"
  },
  "language_info": {
   "codemirror_mode": {
    "name": "ipython",
    "version": 3
   },
   "file_extension": ".py",
   "mimetype": "text/x-python",
   "name": "python",
   "nbconvert_exporter": "python",
   "pygments_lexer": "ipython3",
   "version": "3.13.1"
  }
 },
 "nbformat": 4,
 "nbformat_minor": 2
}
